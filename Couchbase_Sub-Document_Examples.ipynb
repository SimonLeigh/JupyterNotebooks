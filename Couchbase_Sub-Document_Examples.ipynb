{
 "cells": [
  {
   "cell_type": "code",
   "execution_count": 33,
   "metadata": {
    "collapsed": false
   },
   "outputs": [
    {
     "data": {
      "image/png": "[encoded data removed]",
      "text/plain": [
       "<IPython.core.display.Image object>"
      ]
     },
     "execution_count": 33,
     "metadata": {},
     "output_type": "execute_result"
    }
   ],
   "source": [
    "Image(\"images/_cb.png\")"
   ]
  },
  {
   "cell_type": "markdown",
   "metadata": {},
   "source": [
    "# An introduction to the Couchbase sub-document API in Python"
   ]
  },
  {
   "cell_type": "markdown",
   "metadata": {},
   "source": [
    "***Download this notebook (to execute the code for yourself!) here:***\n",
    "https://github.com/SimonLeigh/JupyterNotebooks/blob/master/Couchbase%20Sub-Document%20Examples.ipynb\n",
    "\n",
    "In this notebook I will explore the usage of the Couchbase Key/Value and sub-document APIs in the Python SDK 2.x in order to highlight the similarities and differences between them.\n",
    "\n",
    "The sub-document API was introduced in Couchbase Server version 4.5. The feature provides a means to send to or request from the Server only **portions** of a full document. \n",
    "\n",
    "This trades the cost of parsing the document on the server side for the benefit of reduced network traffic when reading (or adding) only small amounts of data relative to the total size of the document.\n",
    "\n",
    "It also allows one to write data into a document without the necessity of reading the document first. Consider operations such as: array prepend/append, array index retrieval, field addition, etc.\n",
    "\n",
    "My colleague David Maier provides more context and background in his blog post below, and there is also complete documentation available at Couchbase.com.\n",
    "\n",
    "David's blog: http://blog.couchbase.com/2016/may/couchbase-server-45s-new-sub-document\n",
    "\n",
    "Couchbase Python Library API docs: http://pythonhosted.org/couchbase/index.html\n",
    "\n",
    "Download Couchbase: http://www.couchbase.com/nosql-databases/downloads\n"
   ]
  },
  {
   "cell_type": "markdown",
   "metadata": {},
   "source": [
    "### First we set up our configuration"
   ]
  },
  {
   "cell_type": "markdown",
   "metadata": {},
   "source": [
    "***Please note that you must first install Couchbase Server 4.5 and configure the sample bucket `travel-sample` in order to use the following code interactively. ***\n",
    "\n",
    "http://developer.couchbase.com/documentation/server/current/settings/install-sample-buckets.html"
   ]
  },
  {
   "cell_type": "code",
   "execution_count": 34,
   "metadata": {
    "collapsed": false
   },
   "outputs": [],
   "source": [
    "COUCHBASE_SERVER = \"localhost\"\n",
    "COUCHBASE_BUCKET = \"travel-sample\"\n",
    "\n",
    "import uuid\n",
    "from IPython.display import display_javascript, display_html, display, Image\n",
    "from IPython.core.display import HTML\n",
    "import json"
   ]
  },
  {
   "cell_type": "markdown",
   "metadata": {},
   "source": [
    "### Next, we import necessary Couchbase libraries"
   ]
  },
  {
   "cell_type": "code",
   "execution_count": 35,
   "metadata": {
    "collapsed": false
   },
   "outputs": [],
   "source": [
    "from couchbase.bucket import Bucket\n",
    "import couchbase.subdocument as SD\n",
    "from couchbase import exceptions"
   ]
  },
  {
   "cell_type": "markdown",
   "metadata": {},
   "source": [
    "### Connect to Couchbase"
   ]
  },
  {
   "cell_type": "code",
   "execution_count": 36,
   "metadata": {
    "collapsed": false
   },
   "outputs": [
    {
     "name": "stdout",
     "output_type": "stream",
     "text": [
      "Successfully connected to Couchbase!\n"
     ]
    }
   ],
   "source": [
    "try:\n",
    "    bucket = Bucket(\"couchbase://{0}/{1}\".format(COUCHBASE_SERVER,COUCHBASE_BUCKET))\n",
    "except exceptions.CouchbaseError as err:\n",
    "    print(\"Couchbase error: {0}\".format(err))\n",
    "else:\n",
    "    print(\"Successfully connected to Couchbase!\")"
   ]
  },
  {
   "cell_type": "markdown",
   "metadata": {},
   "source": [
    "### Retrieve one WHOLE document, by key, from the bucket"
   ]
  },
  {
   "cell_type": "code",
   "execution_count": 37,
   "metadata": {
    "collapsed": false
   },
   "outputs": [],
   "source": [
    "keyToRetrieve=\"airport_1284\"\n",
    "try:\n",
    "    completeDocument = bucket.get(keyToRetrieve)\n",
    "except Exception as err:\n",
    "    if isinstance(err, exceptions.NotFoundError):\n",
    "        print(\"Document %s not found in bucket: {0}\".format(err.key, COUCHBASE_BUCKET))\n",
    "except:\n",
    "    print(\"Unhandled Exception encountered: {0}\".format(err))"
   ]
  },
  {
   "cell_type": "markdown",
   "metadata": {},
   "source": [
    "### Let's look at the return type of the get operation"
   ]
  },
  {
   "cell_type": "code",
   "execution_count": 38,
   "metadata": {
    "collapsed": false
   },
   "outputs": [
    {
     "name": "stdout",
     "output_type": "stream",
     "text": [
      "<type 'ValueResult'>\n"
     ]
    }
   ],
   "source": [
    "print type(completeDocument)"
   ]
  },
  {
   "cell_type": "markdown",
   "metadata": {},
   "source": [
    "Note that the returned **ValueResult** object from a get command contains also Couchbase Metadata."
   ]
  },
  {
   "cell_type": "markdown",
   "metadata": {},
   "source": [
    "### And what it is composed of..."
   ]
  },
  {
   "cell_type": "code",
   "execution_count": 39,
   "metadata": {
    "collapsed": false
   },
   "outputs": [
    {
     "name": "stdout",
     "output_type": "stream",
     "text": [
      "ValueResult<rc=0x0, key=u'airport_1284', value={u'city': u'Albi', u'tz': u'Europe/Paris', u'country': u'France', u'icao': u'LFCI', u'geo': {u'lat': 43.913887, u'alt': 564.0, u'lon': 2.113056}, u'faa': u'LBI', u'type': u'airport', u'id': 1284, u'airportname': u'Le Sequestre'}, cas=0xfc3052430100, flags=0x2000006>\n"
     ]
    }
   ],
   "source": [
    "print completeDocument"
   ]
  },
  {
   "cell_type": "markdown",
   "metadata": {},
   "source": [
    "We want only the **value** property to  get the true document body from Couchbase Server."
   ]
  },
  {
   "cell_type": "markdown",
   "metadata": {},
   "source": [
    "### Let's have a look at the document body"
   ]
  },
  {
   "cell_type": "code",
   "execution_count": 40,
   "metadata": {
    "collapsed": false
   },
   "outputs": [
    {
     "name": "stdout",
     "output_type": "stream",
     "text": [
      "{u'city': u'Albi', u'tz': u'Europe/Paris', u'country': u'France', u'icao': u'LFCI', u'geo': {u'lat': 43.913887, u'alt': 564.0, u'lon': 2.113056}, u'faa': u'LBI', u'type': u'airport', u'id': 1284, u'airportname': u'Le Sequestre'}\n"
     ]
    }
   ],
   "source": [
    "print completeDocument.value"
   ]
  },
  {
   "cell_type": "markdown",
   "metadata": {},
   "source": [
    "### So, now that we have seen what the API is like for a full document read, let's look at the sub-document API"
   ]
  },
  {
   "cell_type": "code",
   "execution_count": 41,
   "metadata": {
    "collapsed": false
   },
   "outputs": [
    {
     "name": "stdout",
     "output_type": "stream",
     "text": [
      "Success \n"
     ]
    }
   ],
   "source": [
    "# This field actually exists within the document we will retrieve.\n",
    "fieldToRetrieve=\"geo\"\n",
    "# This field DOES NOT EXIST within the document we will retrieve.\n",
    "missingFieldToRetrieve=\"foobar\"\n",
    "try:\n",
    "    # We can use the lookup_in method of a bucket object to retrieve sub-document fragments.\n",
    "    subDocument = bucket.lookup_in(keyToRetrieve, SD.get(fieldToRetrieve))\n",
    "    subDocumentNoField = bucket.lookup_in(keyToRetrieve, SD.get(missingFieldToRetrieve))\n",
    "except Exception as err:\n",
    "    if isinstance(err, exceptions.NotFoundError):\n",
    "        print(\"Document {0} not found in bucket: {0}\".format(err.key, COUCHBASE_BUCKET))\n",
    "except:\n",
    "    print(\"Unhandled Exception encountered: {0}\".format(err))\n",
    "else:\n",
    "    print(\"Success \")"
   ]
  },
  {
   "cell_type": "markdown",
   "metadata": {},
   "source": [
    "It is worth nothing here that there is no Error/Exception that occurs if we request a sub-document lookup from a document associated with a Key that **DOES** exist within the database. Even if the **FIELD** we are seeking **DOES NOT** exist within the document itself. We have to handle the fact that even though we get a result to the operation from the Server that it may not contain the data we expected."
   ]
  },
  {
   "cell_type": "markdown",
   "metadata": {},
   "source": [
    "### Let's look at the return type of the subDocument operation"
   ]
  },
  {
   "cell_type": "code",
   "execution_count": 42,
   "metadata": {
    "collapsed": false
   },
   "outputs": [
    {
     "name": "stdout",
     "output_type": "stream",
     "text": [
      "<class 'couchbase.result.SubdocResult'>\n",
      "<class 'couchbase.result.SubdocResult'>\n"
     ]
    }
   ],
   "source": [
    "print type(subDocument)\n",
    "print type(subDocumentNoField)"
   ]
  },
  {
   "cell_type": "markdown",
   "metadata": {},
   "source": [
    "### ... and what the returned value of the subDocument operations is composed of"
   ]
  },
  {
   "cell_type": "code",
   "execution_count": 43,
   "metadata": {
    "collapsed": false
   },
   "outputs": [
    {
     "name": "stdout",
     "output_type": "stream",
     "text": [
      "SubdocResult<rc=0x0, key='airport_1284', cas=0xfc3052430100, specs=(Spec<GET, 'geo'>,), results=[(0, {u'lat': 43.913887, u'alt': 564.0, u'lon': 2.113056})]>\n",
      "SubdocResult<rc=0x49[Could not execute one or more multi lookups or mutations], key='airport_1284', cas=0x0, specs=(Spec<GET, 'foobar'>,), results=[(63, None)]>\n"
     ]
    }
   ],
   "source": [
    "print subDocument\n",
    "print subDocumentNoField"
   ]
  },
  {
   "cell_type": "markdown",
   "metadata": {},
   "source": [
    "### We can access the subDocument using the get() method, iteration, or direct index access"
   ]
  },
  {
   "cell_type": "markdown",
   "metadata": {},
   "source": [
    "Notice that the returned value from the get() operation is a tuple with the error code (0 if no error) and the JSON fragment wheras the other access methods simply return the value."
   ]
  },
  {
   "cell_type": "markdown",
   "metadata": {},
   "source": [
    "#### get()"
   ]
  },
  {
   "cell_type": "code",
   "execution_count": 44,
   "metadata": {
    "collapsed": false
   },
   "outputs": [
    {
     "name": "stdout",
     "output_type": "stream",
     "text": [
      "Field with name geo exists? True\n",
      "Content of SubdocResult is: (0, {u'lat': 43.913887, u'alt': 564.0, u'lon': 2.113056})\n",
      "Field with name foobar exists? False\n",
      "Content of SubdocResult is: (63, None)\n"
     ]
    }
   ],
   "source": [
    "print \"Field with name {0} exists? {1}\".format(fieldToRetrieve,\n",
    "                                               subDocument.exists(fieldToRetrieve))\n",
    "\n",
    "print \"Content of SubdocResult is: {0}\".format(subDocument.get(fieldToRetrieve))\n",
    "\n",
    "print \"Field with name {0} exists? {1}\".format(missingFieldToRetrieve, \n",
    "                                               subDocumentNoField.exists(missingFieldToRetrieve))\n",
    "\n",
    "print \"Content of SubdocResult is: {0}\".format(subDocumentNoField.get(missingFieldToRetrieve))"
   ]
  },
  {
   "cell_type": "markdown",
   "metadata": {},
   "source": [
    "#### Iteration"
   ]
  },
  {
   "cell_type": "code",
   "execution_count": 45,
   "metadata": {
    "collapsed": false
   },
   "outputs": [
    {
     "name": "stdout",
     "output_type": "stream",
     "text": [
      "{u'lat': 43.913887, u'alt': 564.0, u'lon': 2.113056}\n"
     ]
    }
   ],
   "source": [
    "for value in subDocument:\n",
    "    print value"
   ]
  },
  {
   "cell_type": "markdown",
   "metadata": {
    "collapsed": true
   },
   "source": [
    "#### Index access"
   ]
  },
  {
   "cell_type": "code",
   "execution_count": 46,
   "metadata": {
    "collapsed": false
   },
   "outputs": [
    {
     "name": "stdout",
     "output_type": "stream",
     "text": [
      "{u'lat': 43.913887, u'alt': 564.0, u'lon': 2.113056}\n"
     ]
    }
   ],
   "source": [
    "print subDocument[0]"
   ]
  },
  {
   "cell_type": "markdown",
   "metadata": {},
   "source": [
    "### Finally, let's take a look at the complete document and our sub-document fragment."
   ]
  },
  {
   "cell_type": "code",
   "execution_count": 47,
   "metadata": {
    "collapsed": false
   },
   "outputs": [
    {
     "name": "stdout",
     "output_type": "stream",
     "text": [
      "{\n",
      "  \"city\": \"Albi\", \n",
      "  \"tz\": \"Europe/Paris\", \n",
      "  \"country\": \"France\", \n",
      "  \"icao\": \"LFCI\", \n",
      "  \"geo\": {\n",
      "    \"lat\": 43.913887, \n",
      "    \"alt\": 564.0, \n",
      "    \"lon\": 2.113056\n",
      "  }, \n",
      "  \"faa\": \"LBI\", \n",
      "  \"type\": \"airport\", \n",
      "  \"id\": 1284, \n",
      "  \"airportname\": \"Le Sequestre\"\n",
      "}\n"
     ]
    }
   ],
   "source": [
    "print(json.dumps(completeDocument.value, indent=2))"
   ]
  },
  {
   "cell_type": "code",
   "execution_count": 48,
   "metadata": {
    "collapsed": false
   },
   "outputs": [
    {
     "name": "stdout",
     "output_type": "stream",
     "text": [
      "{\n",
      "  \"lat\": 43.913887, \n",
      "  \"alt\": 564.0, \n",
      "  \"lon\": 2.113056\n",
      "}\n"
     ]
    }
   ],
   "source": [
    "print(json.dumps(subDocument.get(\"geo\")[1], indent=2))"
   ]
  },
  {
   "cell_type": "markdown",
   "metadata": {
    "collapsed": true
   },
   "source": [
    "### Summary"
   ]
  },
  {
   "cell_type": "markdown",
   "metadata": {
    "collapsed": true
   },
   "source": [
    "So, we have seen a simple introduction to the sub-document API in Couchbase 4.5 using the Python SDK.\n",
    "\n",
    "In the next notebook I will illustrate the use of the mutate_in commands as well as extend the example to retrieving and mutating multiple fields in a document simultaneously. We will also discuss using embedded atomic counters within documents to manage references.\n",
    "\n",
    "@simonleigh0x01 \n",
    "\n",
    "simon.leigh ...at... couchbase.com"
   ]
  }
 ],
 "metadata": {
  "kernelspec": {
   "display_name": "Python 2",
   "language": "python",
   "name": "python2"
  },
  "language_info": {
   "codemirror_mode": {
    "name": "ipython",
    "version": 2
   },
   "file_extension": ".py",
   "mimetype": "text/x-python",
   "name": "python",
   "nbconvert_exporter": "python",
   "pygments_lexer": "ipython2",
   "version": "2.7.11"
  }
 },
 "nbformat": 4,
 "nbformat_minor": 0
}
